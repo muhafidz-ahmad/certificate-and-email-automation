{
  "nbformat": 4,
  "nbformat_minor": 0,
  "metadata": {
    "colab": {
      "provenance": [],
      "collapsed_sections": [
        "13B8Jdd4Fpa3"
      ],
      "mount_file_id": "1h1skOCzcyxoRZcpMCFm6TBVA-kInVJOu",
      "authorship_tag": "ABX9TyN9ewzn0u+henWxnA+0mYA8",
      "include_colab_link": true
    },
    "kernelspec": {
      "name": "python3",
      "display_name": "Python 3"
    },
    "language_info": {
      "name": "python"
    },
    "accelerator": "GPU"
  },
  "cells": [
    {
      "cell_type": "markdown",
      "metadata": {
        "id": "view-in-github",
        "colab_type": "text"
      },
      "source": [
        "<a href=\"https://colab.research.google.com/github/muhafidz-ahmad/certificate-and-email-automation/blob/main/Automation_Certificate_Generator_and_Email_Sender.ipynb\" target=\"_parent\"><img src=\"https://colab.research.google.com/assets/colab-badge.svg\" alt=\"Open In Colab\"/></a>"
      ]
    },
    {
      "cell_type": "markdown",
      "metadata": {
        "id": "aJTb0-NfdUVc"
      },
      "source": [
        "# Sertifikat Peserta Generator"
      ]
    },
    {
      "cell_type": "markdown",
      "metadata": {
        "id": "Zjz-AXRUFkIg"
      },
      "source": [
        "## Import Data dan Inisialisasi Parameter"
      ]
    },
    {
      "cell_type": "code",
      "metadata": {
        "id": "awr35LuCI8yi"
      },
      "source": [
        "import pandas as pd\n",
        "\n",
        "nama_sheet = 'Final' #@param ['Peserta', '10 Besar', 'Final', 'Tim Soal', 'Uji Coba']\n",
        "untuk = '10 Besar' #@param ['Juara 1', 'Juara 2', 'Juara 3', 'Juara 4', 'Juara 5', '10 Besar']\n",
        "format_gambar = 'png' #@param ['png', 'jpg']\n",
        "nama_font = 'CAVIARDREAMS_BOLDITALIC.TTF' #@param {type:'string'}\n",
        "ukuran_font = 192 #@param {type:\"integer\"}\n",
        "\n",
        "path = \"/Sertifikat/\"\n",
        "data = pd.read_excel(path + 'Data.xlsx', sheet_name=nama_sheet)\n",
        "data_nama = data['Nama']\n",
        "data_email = data['Email']\n",
        "juara = data['Juara']\n",
        "data"
      ],
      "execution_count": null,
      "outputs": []
    },
    {
      "cell_type": "markdown",
      "metadata": {
        "id": "13B8Jdd4Fpa3"
      },
      "source": [
        "## Login Email Pengirim"
      ]
    },
    {
      "cell_type": "code",
      "metadata": {
        "id": "VDDcax938K1l"
      },
      "source": [
        "from email.mime.text import MIMEText\n",
        "from email.mime.application import MIMEApplication\n",
        "from email.mime.multipart import MIMEMultipart\n",
        "import os\n",
        "import sys\n",
        "from os.path import exists\n",
        "import smtplib\n",
        "from getpass import getpass\n",
        "\n",
        "# Login\n",
        "username = \"email@domain.com\"\n",
        "pin = getpass(\"Masukan pin : \")\n",
        "server = smtplib.SMTP('smtp.gmail.com:587')\n",
        "server.starttls()\n",
        "server.login(username, pin)"
      ],
      "execution_count": null,
      "outputs": []
    },
    {
      "cell_type": "markdown",
      "metadata": {
        "id": "hsFN2XwkFcT7"
      },
      "source": [
        "## Fungsi Pembuat dan Pengirim Sertifikat"
      ]
    },
    {
      "cell_type": "code",
      "metadata": {
        "id": "YEuTTucE40Lq"
      },
      "source": [
        "from PIL import Image,ImageDraw,ImageFont\n",
        "\n",
        "font = ImageFont.truetype(path + nama_font, ukuran_font)\n",
        "\n",
        "# Pembuatan Nama Pada Sertifikat \n",
        "save_folder = ''\n",
        "\n",
        "def BuatSertif(nama):\n",
        "  global save_folder\n",
        "  if nama_sheet == 'Peserta':\n",
        "    save_folder = path + 'Sertifikat Peserta/'\n",
        "  elif nama_sheet == 'Tim Soal':\n",
        "    save_folder = path + 'Sertifikat Tim Soal/'\n",
        "  elif nama_sheet == 'Uji Coba':\n",
        "    save_folder = path + 'Sertifikat Uji Coba/'\n",
        "  elif nama_sheet == '10 Besar':\n",
        "    save_folder = path + 'Sertifikat 10 Besar/'\n",
        "  elif nama_sheet == 'Final' :\n",
        "    save_folder = path + 'Sertifikat Final/'\n",
        "  else:\n",
        "    sys.exit('Tidak ada sheet', nama_sheet)\n",
        "\n",
        "  sertif = untuk + '.{}'.format(format_gambar)\n",
        "\n",
        "  save_folder = save_folder + 'Sertifikat {} {}.{}'.format(untuk, nama, format_gambar)\n",
        "\n",
        "  img = Image.open(path + sertif)\n",
        "  draw = ImageDraw.Draw(img)\n",
        "\n",
        "  center_x, center_y = img.size\n",
        "    \n",
        "  w, h = draw.textsize(nama, font=font) #untuk mendapatkan ukuran pixel text\n",
        "\n",
        "  # tulis nama di sertifikat\n",
        "  draw.text(xy=((center_x - w + 454.385)/2, 769.067), text=nama, fill=(42,46,61), \n",
        "            font=font)\n",
        "  \n",
        "  img.save(save_folder)\n",
        "\n",
        "  return save_folder\n",
        "  \n",
        "# Pengiriman Sertifikat Ke Email\n",
        "def KirimSertif(nama, email, filename):\n",
        "  sender = username\n",
        "\n",
        "  #filename = save_folder\n",
        "\n",
        "  msg = MIMEMultipart()\n",
        "  msg['Subject'] = 'Sertifikat KOMET 2021'\n",
        "  msg['From'] = username\n",
        "  msg['Reply-to'] = username\n",
        "  msg['To'] = email\n",
        "\n",
        "  # That is what u see if dont have an email reader:\n",
        "  msg.preamble = 'Multipart massage.\\n'\n",
        "      \n",
        "  # Body\n",
        "  body = \"\"\"Terima kasih, Kak {} sudah ikut berpartisipasi dalam Kompetisi Matematika (KOMET) 2021 yang termasuk ke dalam rangkaian acara Mathematics Festival 2021\n",
        "  \n",
        "Tetap semangat, semoga sukses selalu.\"\"\".format(nama)\n",
        "\n",
        "  part = MIMEText(body)\n",
        "  msg.attach(part)\n",
        "\n",
        "  # Attachment\n",
        "  part = MIMEApplication(open(filename,\"rb\").read())\n",
        "  part.add_header('Content-Disposition', 'attachment', filename = os.path.basename(filename))\n",
        "  msg.attach(part)\n",
        "\n",
        "  # Kirim email\n",
        "  server.sendmail(msg['From'], msg['To'], msg.as_string())\n",
        "\n",
        "  print(\"     Sertifikat di kirim ke\", msg[\"To\"])"
      ],
      "execution_count": null,
      "outputs": []
    },
    {
      "cell_type": "markdown",
      "metadata": {
        "id": "vlRn4k2cFxtw"
      },
      "source": [
        "## Jalankan Program"
      ]
    },
    {
      "cell_type": "code",
      "metadata": {
        "id": "BThF5yxC4FVP"
      },
      "source": [
        "# print(\"Sertifikat akan disimpan di\", save_folder)\n",
        "konfirmasi = input(\"Buat sertifikat? (y / n) \")\n",
        "if konfirmasi == 'y':\n",
        "  nomor = 1\n",
        "  for nama, email, j in zip(data_nama, data_email, juara) :\n",
        "    untuk = j\n",
        "    file_sertif = BuatSertif(nama)\n",
        "    print(\"{}. Sertifikat {}\".format(nomor, untuk), nama, \"berhasil dibuat\")\n",
        "    #KirimSertif(nama, email, file_sertif)\n",
        "    nomor += 1\n",
        "else:\n",
        "  print(\"Sertifikat tidak jadi dibuat.\")"
      ],
      "execution_count": null,
      "outputs": []
    }
  ]
}